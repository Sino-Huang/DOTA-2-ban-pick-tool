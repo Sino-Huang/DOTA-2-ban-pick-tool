{
 "cells": [
  {
   "cell_type": "markdown",
   "id": "1f27bed0-527d-4164-9774-253c89efea2b",
   "metadata": {},
   "source": [
    "# Web scraping hero information\n",
    "- we will get counter and combo win rate from dota stratz\n",
    "- we will get laning information from dota stratz too"
   ]
  },
  {
   "cell_type": "markdown",
   "id": "5737e6d2-a066-4642-a92e-64cbafc7c051",
   "metadata": {},
   "source": [
    "## get hero info from dota stratz\n",
    "- get it from https://stratz.com/heroes"
   ]
  },
  {
   "cell_type": "code",
   "execution_count": 138,
   "id": "8852d13d-7489-4991-863c-e59b17f7ac5d",
   "metadata": {},
   "outputs": [],
   "source": [
    "import logging\n",
    "import time\n",
    "import undetected_chromedriver as uc\n",
    "import base64\n",
    "\n",
    "# from selenium import webdriver\n",
    "from selenium.webdriver.common.by import By\n",
    "from selenium.webdriver.common.keys import Keys\n",
    "from selenium.webdriver.support.wait import WebDriverWait\n",
    "from selenium.webdriver.support import expected_conditions as EC\n",
    "import selenium.common.exceptions as Exceptions\n",
    "from selenium import webdriver\n",
    "import math\n",
    "from tqdm.auto import tqdm\n",
    "import os\n",
    "import pickle"
   ]
  },
  {
   "cell_type": "code",
   "execution_count": 117,
   "id": "e618540e-a721-4134-b88d-1e3bc868e2a7",
   "metadata": {},
   "outputs": [],
   "source": [
    "profile_folder = \"~/.config/google-chrome\"\n",
    " \t\n",
    "# load options\n",
    "options = webdriver.ChromeOptions()\n",
    "options.add_argument('--user-data-dir=<profile-folder>')\n",
    "options.add_argument('--profile-directory=Default')\n",
    "options.page_load_strategy = \"normal\"\n",
    "options.headless = False\n",
    "browser = uc.Chrome(\n",
    "            version_main=114,\n",
    "            options=options,\n",
    "        )\n"
   ]
  },
  {
   "cell_type": "markdown",
   "id": "d0345eeb-5ef1-4d34-b55a-c0b0685a7f91",
   "metadata": {},
   "source": [
    "## Obtain all hero urls"
   ]
  },
  {
   "cell_type": "code",
   "execution_count": 5,
   "id": "fde62f70-b6d7-4907-a155-38444770b72a",
   "metadata": {},
   "outputs": [],
   "source": [
    "HERO_URL = \"https://stratz.com/heroes\""
   ]
  },
  {
   "cell_type": "code",
   "execution_count": 6,
   "id": "45aeb341-7053-4e55-8fe1-7cbc94d318a4",
   "metadata": {},
   "outputs": [],
   "source": [
    "# load page \n",
    "browser.get(HERO_URL)\n",
    "time.sleep(2)"
   ]
  },
  {
   "cell_type": "code",
   "execution_count": 33,
   "id": "a0456014-bfd6-4b13-ae7f-c2800522f459",
   "metadata": {},
   "outputs": [],
   "source": [
    "heroelexpath = \"//a[@id and //ancestor::div[contains(@class, 'hitagi__sc-1q1tiz9-1 gMqHDI')]]\"\n",
    "eles = browser.find_elements(By.XPATH, heroelexpath)"
   ]
  },
  {
   "cell_type": "code",
   "execution_count": 40,
   "id": "4896938b-f4e0-4ccd-9efc-572fb4d108de",
   "metadata": {},
   "outputs": [
    {
     "data": {
      "text/plain": [
       "'https://stratz.com/heroes/73'"
      ]
     },
     "execution_count": 40,
     "metadata": {},
     "output_type": "execute_result"
    }
   ],
   "source": [
    "# get all the heros url \n",
    "hero_urls = [t.get_attribute('href') for t in eles]\n",
    "hero_urls[0]"
   ]
  },
  {
   "cell_type": "code",
   "execution_count": 41,
   "id": "9f065d1a-b7a4-4e9f-a297-baecf62ffcec",
   "metadata": {},
   "outputs": [],
   "source": [
    "# now loop each hero url \n",
    "cur_url = next(iter(hero_urls))\n",
    "browser.get(cur_url)"
   ]
  },
  {
   "cell_type": "markdown",
   "id": "622b8ac2-5320-4a13-b21c-8857302a05c1",
   "metadata": {},
   "source": [
    "## Obtain laning info"
   ]
  },
  {
   "cell_type": "code",
   "execution_count": 107,
   "id": "4ec2cccd-03ca-4426-bf95-40106c6d70f0",
   "metadata": {},
   "outputs": [],
   "source": [
    "Lane_rate_info_dict = dict()\n",
    "Url_name_dict = dict()\n",
    "# dict[heroname] = {[\"Pos x Pick Rate\" : val], \"url\": val, }"
   ]
  },
  {
   "cell_type": "code",
   "execution_count": 108,
   "id": "dcc436e6-62de-44b3-8a05-05cd539b8c26",
   "metadata": {},
   "outputs": [],
   "source": [
    "def update_lane_rate_info_for_one_hero(browser, Lane_rate_info_dict, Url_name_dict, cur_url):\n",
    "    # browser load \n",
    "    browser.get(cur_url)\n",
    "    name_xp = \"//span[ contains(@class, 'lbmJJw')]\"\n",
    "    name_ele = browser.find_element(By.XPATH, name_xp)\n",
    "    hero_name = name_ele.text\n",
    "    Lane_rate_info_dict[hero_name] = dict()\n",
    "    Lane_rate_info_dict[hero_name]['url'] = cur_url\n",
    "    Url_name_dict[cur_url] = hero_name\n",
    "    # pos 1 2 3 4 5 \n",
    "    pos_1_lanexp = \"//span[contains(text(), 'Safe Lane')]/../../../../div[2]/div[1]/div[1]\"\n",
    "    pos_2_lanexp = \"//span[contains(text(), 'Mid Lane')]/../../../../div[2]/div[1]/div[1]\"\n",
    "    pos_3_lanexp = \"//span[contains(text(), 'Off Lane')]/../../../../div[2]/div[1]/div[1]\"\n",
    "    pos_4_lanexp = \"//span[contains(text(), 'Soft Support')]/../../../../div[2]/div[1]/div[1]\"\n",
    "    pos_5_lanexp = \"//span[contains(text(), 'Hard Support')]/../../../../div[2]/div[1]/div[1]\"\n",
    "    lanexps = {\"Pos 1 Pick Rate\": pos_1_lanexp,\n",
    "               \"Pos 2 Pick Rate\": pos_2_lanexp,\n",
    "               \"Pos 3 Pick Rate\": pos_3_lanexp,\n",
    "               \"Pos 4 Pick Rate\": pos_4_lanexp,\n",
    "               \"Pos 5 Pick Rate\": pos_5_lanexp}\n",
    "    for key, xp in lanexps.items():\n",
    "        lane_rate_ele = browser.find_element(By.XPATH, xp)\n",
    "        lane_rate = round(float(lane_rate_ele.text.strip('%')) / 100.0, 3)\n",
    "        Lane_rate_info_dict[hero_name][key] = lane_rate"
   ]
  },
  {
   "cell_type": "code",
   "execution_count": 74,
   "id": "3d54ab8c-3daf-44d8-b170-b8da9aa642d3",
   "metadata": {},
   "outputs": [],
   "source": [
    "update_lane_rate_info_for_one_hero(browser, Lane_rate_info_dict, Url_name_dict, cur_url)"
   ]
  },
  {
   "cell_type": "code",
   "execution_count": 75,
   "id": "3726ef54-fc7c-4328-8a41-2aa2c9521f41",
   "metadata": {},
   "outputs": [
    {
     "data": {
      "text/plain": [
       "{'Alchemist': {'url': 'https://stratz.com/heroes/73',\n",
       "  'Pos 1 Pick Rate': 0.289,\n",
       "  'Pos 2 Pick Rate': 0.283,\n",
       "  'Pos 3 Pick Rate': 0.22,\n",
       "  'Pos 4 Pick Rate': 0.117,\n",
       "  'Pos 5 Pick Rate': 0.09}}"
      ]
     },
     "execution_count": 75,
     "metadata": {},
     "output_type": "execute_result"
    }
   ],
   "source": [
    "Lane_rate_info_dict"
   ]
  },
  {
   "cell_type": "code",
   "execution_count": 70,
   "id": "7b5cfa19-2aaa-4af8-8438-263ea1ddcc3b",
   "metadata": {},
   "outputs": [
    {
     "data": {
      "text/plain": [
       "{'https://stratz.com/heroes/73': 'Alchemist'}"
      ]
     },
     "execution_count": 70,
     "metadata": {},
     "output_type": "execute_result"
    }
   ],
   "source": [
    "Url_name_dict"
   ]
  },
  {
   "cell_type": "code",
   "execution_count": 110,
   "id": "775fed32-4ae1-4562-9c3e-4e0c4aee374c",
   "metadata": {},
   "outputs": [
    {
     "name": "stderr",
     "output_type": "stream",
     "text": [
      "100%|█████████████████████████████████████████████████████████████████████████████████████████████████████████████████████████████████████████████████████████| 124/124 [06:29<00:00,  3.14s/it]\n"
     ]
    }
   ],
   "source": [
    "# wait for the progress\n",
    "for cur_url in tqdm(hero_urls):\n",
    "    update_lane_rate_info_for_one_hero(browser, Lane_rate_info_dict,Url_name_dict, cur_url)"
   ]
  },
  {
   "cell_type": "markdown",
   "id": "bd3ed691-830e-4fd2-8d9b-d223e0989522",
   "metadata": {},
   "source": [
    "## Obtain winrate info"
   ]
  },
  {
   "cell_type": "code",
   "execution_count": 105,
   "id": "cc8bb58b-c32a-4a33-8941-0895f575b7a3",
   "metadata": {},
   "outputs": [],
   "source": [
    "Hero_versus_with_winrate_dict = dict()\n",
    "# dict[heroname][\"pair_hero_name\"] = {versus_win_rate, with_win_rate}"
   ]
  },
  {
   "cell_type": "code",
   "execution_count": 131,
   "id": "d8c5b52f-efca-460d-928f-7400dcb4ed61",
   "metadata": {},
   "outputs": [],
   "source": [
    "def update_win_rate_info_for_one_hero(browser, Url_name_dict, Hero_versus_with_winrate_dict, cur_url):\n",
    "    winrate_url = os.path.join(cur_url, \"matchups\")\n",
    "    hero_name = Url_name_dict[cur_url]\n",
    "    Hero_versus_with_winrate_dict[hero_name] = dict()\n",
    "    # browser load \n",
    "    browser.get(winrate_url) \n",
    "    eachrowxp = \"//a[contains(@class, 'hitagi__sc-1hmgwow-0')]\"\n",
    "    \n",
    "    test= WebDriverWait(browser, 20).until(EC.visibility_of_element_located((By.XPATH, eachrowxp)))\n",
    "    time.sleep(5)\n",
    "    roweles = browser.find_elements(By.XPATH, eachrowxp)\n",
    "    for tele in roweles:\n",
    "        pair_url = \"/\".join(tele.get_attribute('href').split('/')[:-1])\n",
    "        if pair_url in Url_name_dict:\n",
    "            pair_hero_name = Url_name_dict[pair_url]\n",
    "        else:\n",
    "            raise RuntimeError(f\"{pair_url} not found in Url_name_dict\")\n",
    "        Hero_versus_with_winrate_dict[hero_name][pair_hero_name] = dict()\n",
    "        versus_win_rate_xp = \"./div[4]/div[1]\"\n",
    "        with_win_rate_xp = \"./div[9]/div[1]\"\n",
    "        versus_win_rate_ele = tele.find_element(By.XPATH, versus_win_rate_xp)\n",
    "        with_win_rate_ele = tele.find_element(By.XPATH, with_win_rate_xp)\n",
    "        versus_win_rate = round(float(versus_win_rate_ele.text.strip('%')) / 100.0, 3)\n",
    "        with_win_rate = round(float(with_win_rate_ele.text.strip('%')) / 100.0, 3)\n",
    "        Hero_versus_with_winrate_dict[hero_name][pair_hero_name]['Versus Win Rate'] = versus_win_rate\n",
    "        Hero_versus_with_winrate_dict[hero_name][pair_hero_name]['Match Win Rate'] = with_win_rate"
   ]
  },
  {
   "cell_type": "code",
   "execution_count": 134,
   "id": "89394777-d9bf-4c70-909b-992cab3e20d0",
   "metadata": {
    "scrolled": true
   },
   "outputs": [
    {
     "name": "stderr",
     "output_type": "stream",
     "text": [
      "100%|█████████████████████████████████████████████████████████████████████████████████████████████████████████████████████████████████████████████████████████| 124/124 [05:19<00:00,  2.58s/it]\n"
     ]
    }
   ],
   "source": [
    "# wait for the progress\n",
    "for ind, cur_url in enumerate(tqdm(hero_urls)):\n",
    "    heroname = Url_name_dict[cur_url]\n",
    "    if len(Hero_versus_with_winrate_dict[heroname]) == 123: # fill up incomplete data\n",
    "        continue \n",
    "    update_win_rate_info_for_one_hero(browser, Url_name_dict, Hero_versus_with_winrate_dict, cur_url)\n"
   ]
  },
  {
   "cell_type": "code",
   "execution_count": 137,
   "id": "b48f9422-fcc4-4fdc-8a2c-bd7c5dcfdb27",
   "metadata": {},
   "outputs": [],
   "source": [
    "browser.close()"
   ]
  },
  {
   "cell_type": "markdown",
   "id": "8b7d318b-7696-4ac8-a322-46d355edea0e",
   "metadata": {},
   "source": [
    "## Save the intermediate information dict"
   ]
  },
  {
   "cell_type": "code",
   "execution_count": 135,
   "id": "b2587a5c-8356-45e9-a913-c69c177947f9",
   "metadata": {
    "scrolled": true
   },
   "outputs": [
    {
     "name": "stdout",
     "output_type": "stream",
     "text": [
      "find 0 incomplete data\n"
     ]
    }
   ],
   "source": [
    "count = 0\n",
    "for name, valdic in Hero_versus_with_winrate_dict.items():\n",
    "    if len(valdic) != 123:\n",
    "        print(name)\n",
    "        # print(valdic)\n",
    "        count += 1\n",
    "print(f\"find {count} incomplete data\")"
   ]
  },
  {
   "cell_type": "code",
   "execution_count": null,
   "id": "aff392d6-9c12-473a-8569-2826ae158697",
   "metadata": {},
   "outputs": [],
   "source": [
    "# we need to store three dict\n",
    "Hero_versus_with_winrate_dict\n",
    "Lane_rate_info_dict\n",
    "Url_name_dict"
   ]
  },
  {
   "cell_type": "code",
   "execution_count": 139,
   "id": "2afcd0be-e5e0-4b94-bd5a-1edea07d8d17",
   "metadata": {},
   "outputs": [],
   "source": [
    "with open(\"../records/hero_versus_with_winrate_dict.pkl\", 'wb') as f:\n",
    "    pickle.dump(Hero_versus_with_winrate_dict, f, protocol=pickle.HIGHEST_PROTOCOL)\n",
    "\n",
    "with open(\"../records/lane_rate_info_dict.pkl\", 'wb') as f:\n",
    "    pickle.dump(Lane_rate_info_dict, f, protocol=pickle.HIGHEST_PROTOCOL)\n",
    "\n",
    "with open(\"../records/url_name_dict.pkl\", 'wb') as f:\n",
    "    pickle.dump(Url_name_dict, f, protocol=pickle.HIGHEST_PROTOCOL)"
   ]
  }
 ],
 "metadata": {
  "kernelspec": {
   "display_name": "Python 3 (ipykernel)",
   "language": "python",
   "name": "python3"
  },
  "language_info": {
   "codemirror_mode": {
    "name": "ipython",
    "version": 3
   },
   "file_extension": ".py",
   "mimetype": "text/x-python",
   "name": "python",
   "nbconvert_exporter": "python",
   "pygments_lexer": "ipython3",
   "version": "3.10.13"
  }
 },
 "nbformat": 4,
 "nbformat_minor": 5
}
