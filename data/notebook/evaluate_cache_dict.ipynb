{
 "cells": [
  {
   "cell_type": "markdown",
   "id": "e8010f6b-4fb1-4677-acac-f3d5dca15cc1",
   "metadata": {},
   "source": [
    "# Evalutate Cache dict\n",
    "- check for diff depth limit, how many rounds it can go"
   ]
  },
  {
   "cell_type": "code",
   "execution_count": 47,
   "id": "8346c1aa-4d8f-4380-a89f-e593a886385b",
   "metadata": {},
   "outputs": [],
   "source": [
    "import pickle\n",
    "import random\n",
    "from tqdm.auto import tqdm"
   ]
  },
  {
   "cell_type": "code",
   "execution_count": 2,
   "id": "2579ddf6-dce0-4dc1-aaa0-ba28061c1686",
   "metadata": {},
   "outputs": [],
   "source": [
    "with open(\"../records/depth_limit_1_warmup_cache_dict.pkl\", 'rb') as f:\n",
    "    d_1_c_dict = pickle.load(f)\n",
    "\n",
    "with open(\"../records/depth_limit_2_warmup_cache_dict.pkl\", 'rb') as f:\n",
    "    d_2_c_dict = pickle.load(f)"
   ]
  },
  {
   "cell_type": "code",
   "execution_count": 3,
   "id": "c98ee74e-f36f-41b5-b940-2b881f9248ec",
   "metadata": {},
   "outputs": [
    {
     "name": "stdout",
     "output_type": "stream",
     "text": [
      "51233\n",
      "16339641\n"
     ]
    }
   ],
   "source": [
    "# check size\n",
    "print(len(d_1_c_dict))\n",
    "print(len(d_2_c_dict))"
   ]
  },
  {
   "cell_type": "code",
   "execution_count": 4,
   "id": "ca72485a-23ae-4cba-ac8b-d31b89fb5ce3",
   "metadata": {},
   "outputs": [],
   "source": [
    "d_1_keys = list(d_1_c_dict.keys())\n",
    "d_2_keys = list(d_2_c_dict.keys())"
   ]
  },
  {
   "cell_type": "code",
   "execution_count": 31,
   "id": "7b8c5b79-5e35-4bb1-b6a9-c4ea8e9c58f8",
   "metadata": {},
   "outputs": [
    {
     "name": "stdout",
     "output_type": "stream",
     "text": [
      "0 \n",
      "\n",
      "Ally:\n",
      "\tNone\n",
      "\tNone\n",
      "\tSand King\n",
      "\tElder Titan\n",
      "\tNone\n",
      "Oppo:\n",
      "\tNone\n",
      "\tNone\n",
      "\tNone\n",
      "\tSilencer\n",
      "\tBane\n",
      "Current Round: 2\n",
      "\n",
      "\n",
      "\n",
      "1 \n",
      "\n",
      "Ally:\n",
      "\tNone\n",
      "\tNone\n",
      "\tNone\n",
      "\tTreant Protector\n",
      "\tWitch Doctor\n",
      "Oppo:\n",
      "\tNone\n",
      "\tNone\n",
      "\tOutworld Destroyer\n",
      "\tNone\n",
      "\tSilencer\n",
      "Current Round: 2\n",
      "\n",
      "\n",
      "\n",
      "2 \n",
      "\n",
      "Ally:\n",
      "\tNone\n",
      "\tNone\n",
      "\tSand King\n",
      "\tElder Titan\n",
      "\tNone\n",
      "Oppo:\n",
      "\tNone\n",
      "\tNone\n",
      "\tNone\n",
      "\tTiny\n",
      "\tCrystal Maiden\n",
      "Current Round: 2\n",
      "\n",
      "\n",
      "\n"
     ]
    }
   ],
   "source": [
    "# test depth 1\n",
    "sps = random.sample(d_1_keys, 3)\n",
    "for ii, sp in enumerate(sps):\n",
    "    print(ii, \"\\n\")\n",
    "    print(sp)\n",
    "    print(\"\\n\")"
   ]
  },
  {
   "cell_type": "code",
   "execution_count": 46,
   "id": "9e23aa96-7154-4417-b0f3-2015e1a122eb",
   "metadata": {},
   "outputs": [
    {
     "name": "stdout",
     "output_type": "stream",
     "text": [
      "0 \n",
      "\n",
      "Ally:\n",
      "\tLifestealer\n",
      "\tDeath Prophet\n",
      "\tPangolier\n",
      "\tShadow Shaman\n",
      "\tNone\n",
      "Oppo:\n",
      "\tNone\n",
      "\tNone\n",
      "\tNone\n",
      "\tSpirit Breaker\n",
      "\tGrimstroke\n",
      "Current Round: 3\n",
      "\n",
      "\n",
      "\n",
      "1 \n",
      "\n",
      "Ally:\n",
      "\tLone Druid\n",
      "\tNone\n",
      "\tDark Seer\n",
      "\tWitch Doctor\n",
      "\tOracle\n",
      "Oppo:\n",
      "\tNone\n",
      "\tNone\n",
      "\tNone\n",
      "\tTiny\n",
      "\tEnchantress\n",
      "Current Round: 3\n",
      "\n",
      "\n",
      "\n",
      "2 \n",
      "\n",
      "Ally:\n",
      "\tWraith King\n",
      "\tNone\n",
      "\tDawnbreaker\n",
      "\tHoodwink\n",
      "\tWinter Wyvern\n",
      "Oppo:\n",
      "\tNone\n",
      "\tNone\n",
      "\tNone\n",
      "\tOmniknight\n",
      "\tShadow Demon\n",
      "Current Round: 3\n",
      "\n",
      "\n",
      "\n"
     ]
    }
   ],
   "source": [
    "# test depth 2\n",
    "sps = random.sample(d_2_keys, 3)\n",
    "for ii, sp in enumerate(sps):\n",
    "    print(ii, \"\\n\")\n",
    "    print(sp)\n",
    "    print(\"\\n\")"
   ]
  },
  {
   "cell_type": "code",
   "execution_count": 53,
   "id": "4cb5b778-7efe-42fe-beb8-30f947cf0479",
   "metadata": {},
   "outputs": [
    {
     "data": {
      "application/vnd.jupyter.widget-view+json": {
       "model_id": "8eeef975b911455d80c0d2ed9bbde4b9",
       "version_major": 2,
       "version_minor": 0
      },
      "text/plain": [
       "  0%|          | 0/16339641 [00:00<?, ?it/s]"
      ]
     },
     "metadata": {},
     "output_type": "display_data"
    },
    {
     "name": "stdout",
     "output_type": "stream",
     "text": [
      "Ally:\n",
      "\tNone\n",
      "\tNone\n",
      "\tNone\n",
      "\tSkywrath Mage\n",
      "\tTreant Protector\n",
      "Oppo:\n",
      "\tNone\n",
      "\tNone\n",
      "\tNone\n",
      "\tElder Titan\n",
      "\tOgre Magi\n",
      "Current Round: 2\n",
      "\n"
     ]
    }
   ],
   "source": [
    "# it also contains round 2 for d_2_keys\n",
    "for k in tqdm(d_2_keys):\n",
    "    if \"Current Round: 2\" in k:\n",
    "        print(k)\n",
    "        break"
   ]
  },
  {
   "cell_type": "markdown",
   "id": "ba5043e6-c1ab-4b8e-99bd-fe1108207ec9",
   "metadata": {},
   "source": [
    "# Conclusion\n",
    "- depth-limit 2 warmup cache dict is quite useful and can avoid computation"
   ]
  },
  {
   "cell_type": "code",
   "execution_count": null,
   "id": "8fef8ca2-cb93-4f5c-b186-d1f6976c2e79",
   "metadata": {},
   "outputs": [],
   "source": []
  }
 ],
 "metadata": {
  "kernelspec": {
   "display_name": "Python 3 (ipykernel)",
   "language": "python",
   "name": "python3"
  },
  "language_info": {
   "codemirror_mode": {
    "name": "ipython",
    "version": 3
   },
   "file_extension": ".py",
   "mimetype": "text/x-python",
   "name": "python",
   "nbconvert_exporter": "python",
   "pygments_lexer": "ipython3",
   "version": "3.10.13"
  }
 },
 "nbformat": 4,
 "nbformat_minor": 5
}
