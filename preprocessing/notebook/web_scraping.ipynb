{
 "cells": [
  {
   "cell_type": "markdown",
   "id": "1f27bed0-527d-4164-9774-253c89efea2b",
   "metadata": {},
   "source": [
    "# Web scraping hero information\n",
    "- we will get counter and combo win rate from dota stratz\n",
    "- we will get laning information from dota stratz too"
   ]
  },
  {
   "cell_type": "markdown",
   "id": "5737e6d2-a066-4642-a92e-64cbafc7c051",
   "metadata": {},
   "source": [
    "## get hero info from dota stratz\n",
    "- get it from https://stratz.com/heroes"
   ]
  },
  {
   "cell_type": "code",
   "execution_count": 1,
   "id": "8852d13d-7489-4991-863c-e59b17f7ac5d",
   "metadata": {},
   "outputs": [],
   "source": [
    "import logging\n",
    "import time\n",
    "import undetected_chromedriver as uc\n",
    "import base64\n",
    "\n",
    "# from selenium import webdriver\n",
    "from selenium.webdriver.common.by import By\n",
    "from selenium.webdriver.common.keys import Keys\n",
    "from selenium.webdriver.support.wait import WebDriverWait\n",
    "from selenium.webdriver.support import expected_conditions as EC\n",
    "import selenium.common.exceptions as Exceptions\n",
    "from selenium import webdriver\n",
    "import math\n",
    "from tqdm.auto import tqdm\n",
    "import os\n",
    "import pickle\n",
    "import numpy as np"
   ]
  },
  {
   "cell_type": "code",
   "execution_count": 2,
   "id": "e618540e-a721-4134-b88d-1e3bc868e2a7",
   "metadata": {},
   "outputs": [],
   "source": [
    "profile_folder = \"~/.config/google-chrome\"\n",
    " \t\n",
    "# load options\n",
    "options = webdriver.ChromeOptions()\n",
    "options.add_argument('--user-data-dir=<profile-folder>')\n",
    "options.add_argument('--profile-directory=Default')\n",
    "options.page_load_strategy = \"normal\"\n",
    "options.headless = False\n",
    "browser = uc.Chrome(\n",
    "            version_main=114,\n",
    "            options=options,\n",
    "        )\n"
   ]
  },
  {
   "cell_type": "markdown",
   "id": "d0345eeb-5ef1-4d34-b55a-c0b0685a7f91",
   "metadata": {},
   "source": [
    "## Obtain all hero urls"
   ]
  },
  {
   "cell_type": "code",
   "execution_count": 3,
   "id": "fde62f70-b6d7-4907-a155-38444770b72a",
   "metadata": {},
   "outputs": [],
   "source": [
    "HERO_URL = \"https://stratz.com/heroes\""
   ]
  },
  {
   "cell_type": "code",
   "execution_count": 4,
   "id": "45aeb341-7053-4e55-8fe1-7cbc94d318a4",
   "metadata": {},
   "outputs": [],
   "source": [
    "# load page \n",
    "browser.get(HERO_URL)\n",
    "time.sleep(2)"
   ]
  },
  {
   "cell_type": "code",
   "execution_count": 5,
   "id": "a0456014-bfd6-4b13-ae7f-c2800522f459",
   "metadata": {},
   "outputs": [],
   "source": [
    "heroelexpath = \"//a[@id and //ancestor::div[contains(@class, 'hitagi__sc-1q1tiz9-1 gMqHDI')]]\"\n",
    "eles = browser.find_elements(By.XPATH, heroelexpath)"
   ]
  },
  {
   "cell_type": "code",
   "execution_count": 6,
   "id": "4896938b-f4e0-4ccd-9efc-572fb4d108de",
   "metadata": {},
   "outputs": [
    {
     "data": {
      "text/plain": [
       "'https://stratz.com/heroes/73'"
      ]
     },
     "execution_count": 6,
     "metadata": {},
     "output_type": "execute_result"
    }
   ],
   "source": [
    "# get all the heros url \n",
    "hero_urls = [t.get_attribute('href') for t in eles]\n",
    "hero_urls[0]"
   ]
  },
  {
   "cell_type": "code",
   "execution_count": 7,
   "id": "9f065d1a-b7a4-4e9f-a297-baecf62ffcec",
   "metadata": {},
   "outputs": [],
   "source": [
    "# now loop each hero url \n",
    "cur_url = next(iter(hero_urls))\n",
    "browser.get(cur_url)"
   ]
  },
  {
   "cell_type": "markdown",
   "id": "622b8ac2-5320-4a13-b21c-8857302a05c1",
   "metadata": {},
   "source": [
    "## Obtain laning info"
   ]
  },
  {
   "cell_type": "code",
   "execution_count": 8,
   "id": "4ec2cccd-03ca-4426-bf95-40106c6d70f0",
   "metadata": {},
   "outputs": [],
   "source": [
    "Lane_rate_info_dict = dict()\n",
    "Url_name_dict = dict()\n",
    "# dict[heroname] = {[\"Pos x Pick Rate\" : val], \"url\": val, }"
   ]
  },
  {
   "cell_type": "code",
   "execution_count": 9,
   "id": "dcc436e6-62de-44b3-8a05-05cd539b8c26",
   "metadata": {},
   "outputs": [],
   "source": [
    "def update_lane_rate_info_for_one_hero(browser, Lane_rate_info_dict, Url_name_dict, cur_url):\n",
    "    # browser load \n",
    "    browser.get(cur_url)\n",
    "    name_xp = \"//span[ contains(@class, 'lbmJJw')]\"\n",
    "    name_ele = browser.find_element(By.XPATH, name_xp)\n",
    "    hero_name = name_ele.text\n",
    "    Lane_rate_info_dict[hero_name] = dict()\n",
    "    Lane_rate_info_dict[hero_name]['url'] = cur_url\n",
    "    Url_name_dict[cur_url] = hero_name\n",
    "    # pos 1 2 3 4 5 \n",
    "    pos_1_lanexp = \"//span[contains(text(), 'Safe Lane')]/../../../../div[2]/div[1]/div[1]\"\n",
    "    pos_2_lanexp = \"//span[contains(text(), 'Mid Lane')]/../../../../div[2]/div[1]/div[1]\"\n",
    "    pos_3_lanexp = \"//span[contains(text(), 'Off Lane')]/../../../../div[2]/div[1]/div[1]\"\n",
    "    pos_4_lanexp = \"//span[contains(text(), 'Soft Support')]/../../../../div[2]/div[1]/div[1]\"\n",
    "    pos_5_lanexp = \"//span[contains(text(), 'Hard Support')]/../../../../div[2]/div[1]/div[1]\"\n",
    "    lanexps = {\"Pos 1 Pick Rate\": pos_1_lanexp,\n",
    "               \"Pos 2 Pick Rate\": pos_2_lanexp,\n",
    "               \"Pos 3 Pick Rate\": pos_3_lanexp,\n",
    "               \"Pos 4 Pick Rate\": pos_4_lanexp,\n",
    "               \"Pos 5 Pick Rate\": pos_5_lanexp}\n",
    "    for key, xp in lanexps.items():\n",
    "        lane_rate_ele = browser.find_element(By.XPATH, xp)\n",
    "        lane_rate = round(float(lane_rate_ele.text.strip('%')) / 100.0, 3)\n",
    "        Lane_rate_info_dict[hero_name][key] = lane_rate"
   ]
  },
  {
   "cell_type": "code",
   "execution_count": 10,
   "id": "3d54ab8c-3daf-44d8-b170-b8da9aa642d3",
   "metadata": {},
   "outputs": [],
   "source": [
    "update_lane_rate_info_for_one_hero(browser, Lane_rate_info_dict, Url_name_dict, cur_url)"
   ]
  },
  {
   "cell_type": "code",
   "execution_count": 11,
   "id": "3726ef54-fc7c-4328-8a41-2aa2c9521f41",
   "metadata": {},
   "outputs": [
    {
     "data": {
      "text/plain": [
       "{'Alchemist': {'url': 'https://stratz.com/heroes/73',\n",
       "  'Pos 1 Pick Rate': 0.352,\n",
       "  'Pos 2 Pick Rate': 0.261,\n",
       "  'Pos 3 Pick Rate': 0.191,\n",
       "  'Pos 4 Pick Rate': 0.108,\n",
       "  'Pos 5 Pick Rate': 0.088}}"
      ]
     },
     "execution_count": 11,
     "metadata": {},
     "output_type": "execute_result"
    }
   ],
   "source": [
    "Lane_rate_info_dict"
   ]
  },
  {
   "cell_type": "code",
   "execution_count": 12,
   "id": "7b5cfa19-2aaa-4af8-8438-263ea1ddcc3b",
   "metadata": {},
   "outputs": [
    {
     "data": {
      "text/plain": [
       "{'https://stratz.com/heroes/73': 'Alchemist'}"
      ]
     },
     "execution_count": 12,
     "metadata": {},
     "output_type": "execute_result"
    }
   ],
   "source": [
    "Url_name_dict"
   ]
  },
  {
   "cell_type": "code",
   "execution_count": 14,
   "id": "775fed32-4ae1-4562-9c3e-4e0c4aee374c",
   "metadata": {},
   "outputs": [
    {
     "data": {
      "application/vnd.jupyter.widget-view+json": {
       "model_id": "6111642cd2ee458aa16c64b2864c30d8",
       "version_major": 2,
       "version_minor": 0
      },
      "text/plain": [
       "  0%|          | 0/124 [00:00<?, ?it/s]"
      ]
     },
     "metadata": {},
     "output_type": "display_data"
    }
   ],
   "source": [
    "# wait for the progress\n",
    "for ind, cur_url in enumerate(tqdm(hero_urls)):\n",
    "    # if ind < 84:\n",
    "    #     continue\n",
    "    update_lane_rate_info_for_one_hero(browser, Lane_rate_info_dict,Url_name_dict, cur_url)"
   ]
  },
  {
   "cell_type": "markdown",
   "id": "bd3ed691-830e-4fd2-8d9b-d223e0989522",
   "metadata": {},
   "source": [
    "## Obtain winrate info"
   ]
  },
  {
   "cell_type": "code",
   "execution_count": 15,
   "id": "cc8bb58b-c32a-4a33-8941-0895f575b7a3",
   "metadata": {},
   "outputs": [],
   "source": [
    "Hero_versus_with_winrate_dict = dict()\n",
    "# dict[heroname][\"pair_hero_name\"] = {versus_win_rate, with_win_rate}"
   ]
  },
  {
   "cell_type": "code",
   "execution_count": 16,
   "id": "d8c5b52f-efca-460d-928f-7400dcb4ed61",
   "metadata": {},
   "outputs": [],
   "source": [
    "def update_win_rate_info_for_one_hero(browser, Url_name_dict, Hero_versus_with_winrate_dict, cur_url):\n",
    "    winrate_url = os.path.join(cur_url, \"matchups\")\n",
    "    hero_name = Url_name_dict[cur_url]\n",
    "    Hero_versus_with_winrate_dict[hero_name] = dict()\n",
    "    # browser load \n",
    "    browser.get(winrate_url) \n",
    "    eachrowxp = \"//a[contains(@class, 'hitagi__sc-1hmgwow-0')]\"\n",
    "    \n",
    "    test= WebDriverWait(browser, 20).until(EC.visibility_of_element_located((By.XPATH, eachrowxp)))\n",
    "    time.sleep(5)\n",
    "    roweles = browser.find_elements(By.XPATH, eachrowxp)\n",
    "    for tele in roweles:\n",
    "        pair_url = \"/\".join(tele.get_attribute('href').split('/')[:-1])\n",
    "        if pair_url in Url_name_dict:\n",
    "            pair_hero_name = Url_name_dict[pair_url]\n",
    "        else:\n",
    "            raise RuntimeError(f\"{pair_url} not found in Url_name_dict\")\n",
    "        Hero_versus_with_winrate_dict[hero_name][pair_hero_name] = dict()\n",
    "        versus_win_rate_xp = \"./div[4]/div[1]\"\n",
    "        with_win_rate_xp = \"./div[9]/div[1]\"\n",
    "        counter_rate_xp = \"./div[5]/div[1]\"\n",
    "        versus_win_rate_ele = tele.find_element(By.XPATH, versus_win_rate_xp)\n",
    "        with_win_rate_ele = tele.find_element(By.XPATH, with_win_rate_xp)\n",
    "        counter_rate_ele = tele.find_element(By.XPATH, counter_rate_xp)\n",
    "        versus_win_rate = round(float(versus_win_rate_ele.text.strip('%')) / 100.0, 3)\n",
    "        with_win_rate = round(float(with_win_rate_ele.text.strip('%')) / 100.0, 3)\n",
    "        counter_rate_num_t = counter_rate_ele.text.strip('%')\n",
    "        if  counter_rate_num_t[0] == \"~\":\n",
    "            counter_rate_num_t = counter_rate_num_t[1:]\n",
    "        counter_rate = round(float(counter_rate_num_t) / 100.0, 3)\n",
    "        Hero_versus_with_winrate_dict[hero_name][pair_hero_name]['Versus Win Rate'] = versus_win_rate\n",
    "        Hero_versus_with_winrate_dict[hero_name][pair_hero_name]['Match Win Rate'] = with_win_rate\n",
    "        Hero_versus_with_winrate_dict[hero_name][pair_hero_name]['Counter Rate'] = counter_rate"
   ]
  },
  {
   "cell_type": "code",
   "execution_count": 19,
   "id": "89394777-d9bf-4c70-909b-992cab3e20d0",
   "metadata": {
    "scrolled": true
   },
   "outputs": [
    {
     "data": {
      "application/vnd.jupyter.widget-view+json": {
       "model_id": "034badc515b54b0c9b4f081b96c24450",
       "version_major": 2,
       "version_minor": 0
      },
      "text/plain": [
       "  0%|          | 0/124 [00:00<?, ?it/s]"
      ]
     },
     "metadata": {},
     "output_type": "display_data"
    }
   ],
   "source": [
    "# wait for the progress\n",
    "for ind, cur_url in enumerate(tqdm(hero_urls)):\n",
    "    # if ind < 93:\n",
    "    #     continue\n",
    "    heroname = Url_name_dict[cur_url]\n",
    "    try:\n",
    "        update_win_rate_info_for_one_hero(browser, Url_name_dict, Hero_versus_with_winrate_dict, cur_url)\n",
    "    except Exception:\n",
    "        update_win_rate_info_for_one_hero(browser, Url_name_dict, Hero_versus_with_winrate_dict, cur_url)\n"
   ]
  },
  {
   "cell_type": "code",
   "execution_count": 21,
   "id": "39ca9f3a-9427-453f-a593-ac2c22ab8d20",
   "metadata": {},
   "outputs": [
    {
     "data": {
      "application/vnd.jupyter.widget-view+json": {
       "model_id": "b4fef17d239a40a4a96d9d67de628836",
       "version_major": 2,
       "version_minor": 0
      },
      "text/plain": [
       "  0%|          | 0/124 [00:00<?, ?it/s]"
      ]
     },
     "metadata": {},
     "output_type": "display_data"
    }
   ],
   "source": [
    "import pandas as pd\n",
    "\n",
    "\n",
    "hero_abbrev_df = pd.read_csv(\"../records/hero_abbrev.csv\")\n",
    "HERO_LEN_M_ONE = len(hero_abbrev_df) - 1\n",
    "# wait for the progress\n",
    "for ind, cur_url in enumerate(tqdm(hero_urls)):\n",
    "    heroname = Url_name_dict[cur_url]\n",
    "    if len(Hero_versus_with_winrate_dict[heroname]) == HERO_LEN_M_ONE: # fill up incomplete data\n",
    "        continue \n",
    "    try:\n",
    "        update_win_rate_info_for_one_hero(browser, Url_name_dict, Hero_versus_with_winrate_dict, cur_url)\n",
    "    except Exception:\n",
    "        update_win_rate_info_for_one_hero(browser, Url_name_dict, Hero_versus_with_winrate_dict, cur_url)"
   ]
  },
  {
   "cell_type": "code",
   "execution_count": 22,
   "id": "b48f9422-fcc4-4fdc-8a2c-bd7c5dcfdb27",
   "metadata": {},
   "outputs": [],
   "source": [
    "browser.close()"
   ]
  },
  {
   "cell_type": "markdown",
   "id": "8b7d318b-7696-4ac8-a322-46d355edea0e",
   "metadata": {},
   "source": [
    "## Save the intermediate information dict"
   ]
  },
  {
   "cell_type": "code",
   "execution_count": 23,
   "id": "b2587a5c-8356-45e9-a913-c69c177947f9",
   "metadata": {
    "scrolled": true
   },
   "outputs": [
    {
     "name": "stdout",
     "output_type": "stream",
     "text": [
      "find 0 incomplete data\n"
     ]
    }
   ],
   "source": [
    "\n",
    "count = 0\n",
    "for name, valdic in Hero_versus_with_winrate_dict.items():\n",
    "    if len(valdic) != HERO_LEN_M_ONE:\n",
    "        print(name)\n",
    "        # print(valdic)\n",
    "        count += 1\n",
    "print(f\"find {count} incomplete data\")"
   ]
  },
  {
   "cell_type": "code",
   "execution_count": 24,
   "id": "aff392d6-9c12-473a-8569-2826ae158697",
   "metadata": {},
   "outputs": [],
   "source": [
    "# # we need to store three dict\n",
    "# Hero_versus_with_winrate_dict\n",
    "# Lane_rate_info_dict\n",
    "# Url_name_dict"
   ]
  },
  {
   "cell_type": "code",
   "execution_count": 25,
   "id": "2afcd0be-e5e0-4b94-bd5a-1edea07d8d17",
   "metadata": {},
   "outputs": [],
   "source": [
    "with open(\"../records/hero_versus_with_winrate_dict.pkl\", 'wb') as f:\n",
    "    pickle.dump(Hero_versus_with_winrate_dict, f, protocol=pickle.HIGHEST_PROTOCOL)\n",
    "\n",
    "with open(\"../records/lane_rate_info_dict.pkl\", 'wb') as f:\n",
    "    pickle.dump(Lane_rate_info_dict, f, protocol=pickle.HIGHEST_PROTOCOL)\n",
    "\n",
    "with open(\"../records/url_name_dict.pkl\", 'wb') as f:\n",
    "    pickle.dump(Url_name_dict, f, protocol=pickle.HIGHEST_PROTOCOL)"
   ]
  },
  {
   "cell_type": "markdown",
   "id": "049a4039-1de4-4ab3-9204-d75a99828834",
   "metadata": {},
   "source": [
    "# Form 2d matrix\n",
    "- we need 2 2d matrices, one is for with winrate and the other one is for counter winrate\n",
    "- with winrate matrix should be symetrical\n",
    "- counter winrate matrix should be complement\n",
    "\n",
    "`dict[ours][opponent] = winrate`"
   ]
  },
  {
   "cell_type": "code",
   "execution_count": 26,
   "id": "3d6f738e-68d3-408c-8e7d-518deaa005e8",
   "metadata": {},
   "outputs": [],
   "source": [
    "with open(\"../records/hero_versus_with_winrate_dict.pkl\", 'rb') as f:\n",
    "    Hero_versus_with_winrate_dict= pickle.load(f)\n",
    "\n",
    "with open(\"../records/lane_rate_info_dict.pkl\", 'rb') as f:\n",
    "    Lane_rate_info_dict = pickle.load(f)\n",
    "\n",
    "with open(\"../records/url_name_dict.pkl\", 'rb') as f:\n",
    "    Url_name_dict = pickle.load(f)"
   ]
  },
  {
   "cell_type": "code",
   "execution_count": 27,
   "id": "608b24d6-7613-44b0-a589-ab0818d4744d",
   "metadata": {},
   "outputs": [
    {
     "data": {
      "application/vnd.jupyter.widget-view+json": {
       "model_id": "ebf202326a444f32ab735479e434ed6b",
       "version_major": 2,
       "version_minor": 0
      },
      "text/plain": [
       "  0%|          | 0/124 [00:00<?, ?it/s]"
      ]
     },
     "metadata": {},
     "output_type": "display_data"
    }
   ],
   "source": [
    "# with winrate matrix \n",
    "with_winrate_matrix = dict()\n",
    "for heroname in tqdm(Hero_versus_with_winrate_dict.keys()):\n",
    "    with_winrate_matrix[heroname] = dict()\n",
    "    for paired_heroname in Hero_versus_with_winrate_dict[heroname].keys():\n",
    "        with_winrate_matrix[heroname][paired_heroname] = Hero_versus_with_winrate_dict[heroname][paired_heroname]['Match Win Rate']"
   ]
  },
  {
   "cell_type": "code",
   "execution_count": 28,
   "id": "79d302fd-1d3a-4049-978c-e95db8b4a798",
   "metadata": {},
   "outputs": [
    {
     "data": {
      "application/vnd.jupyter.widget-view+json": {
       "model_id": "e0528d0c870f43dfb9e0c7c90027a1e7",
       "version_major": 2,
       "version_minor": 0
      },
      "text/plain": [
       "  0%|          | 0/124 [00:00<?, ?it/s]"
      ]
     },
     "metadata": {},
     "output_type": "display_data"
    }
   ],
   "source": [
    "# with winrate matrix force symmetricity \n",
    "with_winrate_matrix_symmetricity = dict()\n",
    "for heroname in tqdm(with_winrate_matrix.keys()):\n",
    "    with_winrate_matrix_symmetricity[heroname] = dict()\n",
    "    for pairheroname in with_winrate_matrix[heroname].keys():\n",
    "        fwdwinrate = with_winrate_matrix[heroname][pairheroname]\n",
    "        bwdwinrate = with_winrate_matrix[pairheroname][heroname]\n",
    "        symwinrate = round((fwdwinrate + bwdwinrate) / 2.0, 3)\n",
    "        with_winrate_matrix_symmetricity[heroname][pairheroname] = symwinrate"
   ]
  },
  {
   "cell_type": "code",
   "execution_count": 29,
   "id": "e5030f05-e989-42f8-b956-fff63af17f16",
   "metadata": {},
   "outputs": [
    {
     "data": {
      "application/vnd.jupyter.widget-view+json": {
       "model_id": "b5398b5008d84f74afd4ff17cb27d3cc",
       "version_major": 2,
       "version_minor": 0
      },
      "text/plain": [
       "  0%|          | 0/124 [00:00<?, ?it/s]"
      ]
     },
     "metadata": {},
     "output_type": "display_data"
    }
   ],
   "source": [
    "# versus winrate matrix \n",
    "versus_winrate_matrix = dict()\n",
    "for heroname in tqdm(Hero_versus_with_winrate_dict.keys()):\n",
    "    versus_winrate_matrix[heroname] = dict()\n",
    "    for paired_heroname in Hero_versus_with_winrate_dict[heroname].keys():\n",
    "        versus_winrate_matrix[heroname][paired_heroname] = Hero_versus_with_winrate_dict[heroname][paired_heroname]['Versus Win Rate']"
   ]
  },
  {
   "cell_type": "code",
   "execution_count": 30,
   "id": "e661a9bd-76c2-4321-9178-8ccecb4b565e",
   "metadata": {},
   "outputs": [
    {
     "data": {
      "application/vnd.jupyter.widget-view+json": {
       "model_id": "ab6feebe47c44549a443bc32f58737ac",
       "version_major": 2,
       "version_minor": 0
      },
      "text/plain": [
       "  0%|          | 0/124 [00:00<?, ?it/s]"
      ]
     },
     "metadata": {},
     "output_type": "display_data"
    }
   ],
   "source": [
    "# versus winrate matrix force complement \n",
    "versus_winrate_matrix_complement = dict()\n",
    "for heroname in tqdm(versus_winrate_matrix.keys()):\n",
    "    versus_winrate_matrix_complement[heroname] = dict()\n",
    "    for opponentheroname in versus_winrate_matrix[heroname].keys():\n",
    "        yourwinrate = versus_winrate_matrix[heroname][opponentheroname]\n",
    "        enemywinrate = versus_winrate_matrix[opponentheroname][heroname]\n",
    "        yourwinratebyenemy = 1.0 - enemywinrate\n",
    "        yourwinrate_norm = round((yourwinrate + yourwinratebyenemy)/2.0, 3)\n",
    "        enemywinrate_norm = 1.0 - yourwinrate_norm\n",
    "        versus_winrate_matrix_complement[heroname][opponentheroname] = yourwinrate_norm"
   ]
  },
  {
   "cell_type": "code",
   "execution_count": 31,
   "id": "5e2ef2c4-8dcf-4277-87b6-4e8124bdf8c2",
   "metadata": {},
   "outputs": [
    {
     "name": "stdout",
     "output_type": "stream",
     "text": [
      "0.494\n",
      "0.494\n",
      "0.354\n",
      "0.645\n"
     ]
    }
   ],
   "source": [
    "# evaluate\n",
    "print(with_winrate_matrix_symmetricity['Huskar']['Dazzle'])\n",
    "print(with_winrate_matrix_symmetricity['Dazzle']['Huskar'])\n",
    "print(versus_winrate_matrix_complement['Meepo']['Elder Titan'])\n",
    "print(versus_winrate_matrix_complement['Elder Titan']['Meepo'])"
   ]
  },
  {
   "cell_type": "code",
   "execution_count": 32,
   "id": "341a856a-804c-40d4-a2ba-11fcf5fbf62f",
   "metadata": {},
   "outputs": [
    {
     "data": {
      "application/vnd.jupyter.widget-view+json": {
       "model_id": "ab8955ece863481e99675d7d2718bc40",
       "version_major": 2,
       "version_minor": 0
      },
      "text/plain": [
       "  0%|          | 0/124 [00:00<?, ?it/s]"
      ]
     },
     "metadata": {},
     "output_type": "display_data"
    }
   ],
   "source": [
    "# counter rate matrix\n",
    "counter_rate_matrix = dict()\n",
    "for heroname in tqdm(Hero_versus_with_winrate_dict.keys()):\n",
    "    counter_rate_matrix[heroname] = dict()\n",
    "    for paired_heroname in Hero_versus_with_winrate_dict[heroname].keys():\n",
    "        counter_rate_matrix[heroname][paired_heroname] = Hero_versus_with_winrate_dict[heroname][paired_heroname]['Counter Rate']"
   ]
  },
  {
   "cell_type": "code",
   "execution_count": 33,
   "id": "477a81ba-20c8-4e3e-991b-313ca7f6f450",
   "metadata": {},
   "outputs": [
    {
     "data": {
      "application/vnd.jupyter.widget-view+json": {
       "model_id": "865b046617d5411386c13d41d6820fa4",
       "version_major": 2,
       "version_minor": 0
      },
      "text/plain": [
       "  0%|          | 0/124 [00:00<?, ?it/s]"
      ]
     },
     "metadata": {},
     "output_type": "display_data"
    },
    {
     "data": {
      "application/vnd.jupyter.widget-view+json": {
       "model_id": "2430d68005e14696a2308172c1db4815",
       "version_major": 2,
       "version_minor": 0
      },
      "text/plain": [
       "  0%|          | 0/124 [00:00<?, ?it/s]"
      ]
     },
     "metadata": {},
     "output_type": "display_data"
    },
    {
     "data": {
      "application/vnd.jupyter.widget-view+json": {
       "model_id": "34d09d472247442e92f4cd5a6b4aa549",
       "version_major": 2,
       "version_minor": 0
      },
      "text/plain": [
       "  0%|          | 0/124 [00:00<?, ?it/s]"
      ]
     },
     "metadata": {},
     "output_type": "display_data"
    }
   ],
   "source": [
    "sorted_counter_rate_matrix = dict()\n",
    "for hero_name in tqdm(counter_rate_matrix):\n",
    "    cr_dict = counter_rate_matrix[hero_name]\n",
    "    sorted_cr_dict_list = sorted(cr_dict.items(), key=lambda x:x[1], reverse=True)\n",
    "    sorted_cr_dict = dict()\n",
    "    for k, v in sorted_cr_dict_list:\n",
    "        sorted_cr_dict[k] = v\n",
    "    sorted_counter_rate_matrix[hero_name] = sorted_cr_dict\n",
    "    \n",
    "counter_rate_matrix = sorted_counter_rate_matrix\n",
    "    \n",
    "    \n",
    "sorted_with_winrate_matrix = dict()\n",
    "for hero_name in tqdm(with_winrate_matrix_symmetricity):\n",
    "    cr_dict = with_winrate_matrix_symmetricity[hero_name]\n",
    "    sorted_cr_dict_list = sorted(cr_dict.items(), key=lambda x:x[1], reverse=True)\n",
    "    sorted_cr_dict = dict()\n",
    "    for k, v in sorted_cr_dict_list:\n",
    "        sorted_cr_dict[k] = v\n",
    "    sorted_with_winrate_matrix[hero_name] = sorted_cr_dict\n",
    "    \n",
    "with_winrate_matrix_symmetricity = sorted_with_winrate_matrix\n",
    "    \n",
    "sorted_versus_rate_matrix = dict()\n",
    "for hero_name in tqdm(versus_winrate_matrix_complement):\n",
    "    cr_dict = versus_winrate_matrix_complement[hero_name]\n",
    "    sorted_cr_dict_list = sorted(cr_dict.items(), key=lambda x:x[1], reverse=True)\n",
    "    sorted_cr_dict = dict()\n",
    "    for k, v in sorted_cr_dict_list:\n",
    "        sorted_cr_dict[k] = v\n",
    "    sorted_versus_rate_matrix[hero_name] = sorted_cr_dict\n",
    "    \n",
    "versus_winrate_matrix_complement = sorted_versus_rate_matrix"
   ]
  },
  {
   "cell_type": "code",
   "execution_count": 34,
   "id": "3048e45c-245e-4e39-8762-92ab9174bfa1",
   "metadata": {},
   "outputs": [],
   "source": [
    "with open(\"../records/with_winrate_matrix.pkl\", 'wb') as f:\n",
    "    pickle.dump(with_winrate_matrix_symmetricity, f, protocol=pickle.HIGHEST_PROTOCOL)\n",
    "\n",
    "with open(\"../records/versus_winrate_matrix.pkl\", 'wb') as f:\n",
    "    pickle.dump(versus_winrate_matrix_complement, f, protocol=pickle.HIGHEST_PROTOCOL)\n",
    "\n",
    "with open(\"../records/counter_rate_matrix.pkl\", 'wb') as f:\n",
    "    pickle.dump(counter_rate_matrix, f, protocol=pickle.HIGHEST_PROTOCOL)"
   ]
  },
  {
   "cell_type": "markdown",
   "id": "774841dc-f0ac-4ae4-93bc-d60a2212c6b6",
   "metadata": {},
   "source": [
    "# Get default Pos 1-5 hero pool\n",
    "- we use the lane pick rate info to get this default pos 1-5 hero pool\n",
    "- a hero can only have at most 2 positions\n",
    "- manually edit it here"
   ]
  },
  {
   "cell_type": "code",
   "execution_count": 10,
   "id": "5a000e73-54b0-486c-8ee3-b119de057cd3",
   "metadata": {},
   "outputs": [],
   "source": [
    "from sklearn.cluster import k_means\n",
    "import numpy as np"
   ]
  },
  {
   "cell_type": "code",
   "execution_count": 52,
   "id": "134e9dfe-5616-4c9a-8fc6-fe900aab1576",
   "metadata": {},
   "outputs": [
    {
     "name": "stdout",
     "output_type": "stream",
     "text": [
      "[[11.5]\n",
      " [ 2. ]]\n",
      "[0 1 0 1]\n",
      "[0, 2]\n"
     ]
    },
    {
     "name": "stderr",
     "output_type": "stream",
     "text": [
      "/home/sukai/anaconda3/envs/dota/lib/python3.10/site-packages/sklearn/cluster/_kmeans.py:1416: FutureWarning: The default value of `n_init` will change from 10 to 'auto' in 1.4. Set the value of `n_init` explicitly to suppress the warning\n",
      "  super()._check_params_vs_input(X, default_n_init=10)\n"
     ]
    }
   ],
   "source": [
    "cent, clsid, _ = k_means([[10],[1],[13], [3]], n_clusters=2)\n",
    "print(cent)\n",
    "print(clsid)\n",
    "max_val_clsid = np.argmax(cent)\n",
    "fit_pos_ids = []\n",
    "for ind, id in enumerate(clsid):\n",
    "    if id == max_val_clsid:\n",
    "        fit_pos_ids.append(ind)\n",
    "print(fit_pos_ids)"
   ]
  },
  {
   "cell_type": "code",
   "execution_count": 68,
   "id": "a0d591cf-f31c-474b-aa06-4c2fdb3dbf82",
   "metadata": {},
   "outputs": [
    {
     "data": {
      "application/vnd.jupyter.widget-view+json": {
       "model_id": "a262f6a21dff444e8f7262632538bdda",
       "version_major": 2,
       "version_minor": 0
      },
      "text/plain": [
       "  0%|          | 0/124 [00:00<?, ?it/s]"
      ]
     },
     "metadata": {},
     "output_type": "display_data"
    },
    {
     "name": "stdout",
     "output_type": "stream",
     "text": [
      "[[0.098], [0.817], [0.055], [0.016], [0.014]]\n",
      "[0 1 0 0 0]\n",
      "[1]\n",
      "True\n",
      "False\n"
     ]
    }
   ],
   "source": [
    "Pos_1_list = [] \n",
    "Pos_2_list = [] \n",
    "Pos_3_list = [] \n",
    "Pos_4_list = [] \n",
    "Pos_5_list = [] \n",
    "\n",
    "for heroname in tqdm(Lane_rate_info_dict):\n",
    "    pickrates = [\n",
    "                    Lane_rate_info_dict[heroname]['Pos 1 Pick Rate'],\n",
    "                    Lane_rate_info_dict[heroname]['Pos 2 Pick Rate'],\n",
    "                    Lane_rate_info_dict[heroname]['Pos 3 Pick Rate'],\n",
    "                    Lane_rate_info_dict[heroname]['Pos 4 Pick Rate'],\n",
    "                    Lane_rate_info_dict[heroname]['Pos 5 Pick Rate'],\n",
    "                ]\n",
    "\n",
    "    pickrates = [[x] for x in pickrates]\n",
    "    cent, clsid, _ = k_means(pickrates, n_clusters=2, n_init='auto')\n",
    "\n",
    "    max_val_clsid = np.argmax(cent)\n",
    "    fit_pos_ids = []\n",
    "    for ind, id in enumerate(clsid):\n",
    "        if id == max_val_clsid:\n",
    "            fit_pos_ids.append(ind)\n",
    "    if heroname == \"Meepo\":\n",
    "        print(pickrates)\n",
    "        print(clsid)\n",
    "        print(fit_pos_ids)\n",
    "        print(1 in fit_pos_ids)\n",
    "        print(3 in fit_pos_ids)\n",
    "\n",
    "    if 0 in fit_pos_ids:\n",
    "        Pos_1_list.append(heroname)\n",
    "    if 1 in fit_pos_ids:\n",
    "        Pos_2_list.append(heroname)\n",
    "    if 2 in fit_pos_ids:\n",
    "        Pos_3_list.append(heroname)\n",
    "    if 3 in fit_pos_ids:\n",
    "        Pos_4_list.append(heroname)\n",
    "    if 4 in fit_pos_ids:\n",
    "        Pos_5_list.append(heroname)"
   ]
  },
  {
   "cell_type": "code",
   "execution_count": 69,
   "id": "fbd5d8d4-8bc4-4859-a5a6-e2bfa3c533d9",
   "metadata": {},
   "outputs": [
    {
     "name": "stdout",
     "output_type": "stream",
     "text": [
      "False\n",
      "True\n",
      "False\n",
      "False\n",
      "False\n",
      "False\n",
      "True\n",
      "True\n"
     ]
    }
   ],
   "source": [
    "# evaluate\n",
    "print('Meepo' in Pos_1_list)\n",
    "print('Meepo' in Pos_2_list)\n",
    "print('Meepo' in Pos_3_list)\n",
    "print('Meepo' in Pos_4_list)\n",
    "print('Meepo' in Pos_5_list)\n",
    "print('Shadow Demon' in Pos_3_list)\n",
    "print('Shadow Demon' in Pos_5_list)\n",
    "print('Shadow Demon' in Pos_4_list)"
   ]
  },
  {
   "cell_type": "code",
   "execution_count": 70,
   "id": "dedf1d1a-7cad-45eb-9c6b-9538978ef6a1",
   "metadata": {},
   "outputs": [
    {
     "name": "stdout",
     "output_type": "stream",
     "text": [
      "28\n",
      "37\n",
      "40\n",
      "39\n",
      "41\n"
     ]
    }
   ],
   "source": [
    "# get size for each pos hero pool\n",
    "print(len(Pos_1_list))\n",
    "print(len(Pos_2_list))\n",
    "print(len(Pos_3_list))\n",
    "print(len(Pos_4_list))\n",
    "print(len(Pos_5_list))"
   ]
  },
  {
   "cell_type": "markdown",
   "id": "20667716-d6d9-4ad3-a9cf-3ddefefa1e8d",
   "metadata": {},
   "source": [
    "## Manually remove some hero in default e.g., meepo is too hard for normal players"
   ]
  },
  {
   "cell_type": "code",
   "execution_count": 39,
   "id": "e681c636-f7db-4a40-8b22-a151ba07ac47",
   "metadata": {},
   "outputs": [
    {
     "data": {
      "text/plain": [
       "['Alchemist',\n",
       " 'Chaos Knight',\n",
       " 'Lifestealer',\n",
       " 'Sven',\n",
       " 'Wraith King',\n",
       " 'Anti-Mage',\n",
       " 'Arc Warden',\n",
       " 'Bloodseeker',\n",
       " 'Drow Ranger',\n",
       " 'Faceless Void',\n",
       " 'Gyrocopter',\n",
       " 'Juggernaut',\n",
       " 'Lone Druid',\n",
       " 'Luna',\n",
       " 'Medusa',\n",
       " 'Monkey King',\n",
       " 'Morphling',\n",
       " 'Naga Siren',\n",
       " 'Phantom Assassin',\n",
       " 'Phantom Lancer',\n",
       " 'Riki',\n",
       " 'Slark',\n",
       " 'Sniper',\n",
       " 'Spectre',\n",
       " 'Templar Assassin',\n",
       " 'Terrorblade',\n",
       " 'Troll Warlord',\n",
       " 'Ursa',\n",
       " 'Weaver',\n",
       " 'Muerta']"
      ]
     },
     "execution_count": 39,
     "metadata": {},
     "output_type": "execute_result"
    }
   ],
   "source": [
    "Pos_1_list"
   ]
  },
  {
   "cell_type": "code",
   "execution_count": 34,
   "id": "5450613d-ab7e-49c9-8c9e-6af3aed514a6",
   "metadata": {},
   "outputs": [],
   "source": [
    "Unwanted_Pos_1_list = ['Bristleback','Ember Spirit','Meepo','Shadow Fiend']\n",
    "for unwanted_hero in Unwanted_Pos_1_list:\n",
    "    Pos_1_list.remove(unwanted_hero)"
   ]
  },
  {
   "cell_type": "code",
   "execution_count": 38,
   "id": "969c40f0-cf3e-437e-b630-52ba6017b2c1",
   "metadata": {},
   "outputs": [],
   "source": [
    "Pos_1_list.insert(12, 'Lone Druid')"
   ]
  },
  {
   "cell_type": "code",
   "execution_count": 46,
   "id": "c3a0115c-b4dd-4464-9c2c-0cb3c293a425",
   "metadata": {
    "scrolled": true
   },
   "outputs": [
    {
     "data": {
      "text/plain": [
       "['Alchemist',\n",
       " 'Dragon Knight',\n",
       " 'Earth Spirit',\n",
       " 'Huskar',\n",
       " 'Kunkka',\n",
       " 'Primal Beast',\n",
       " 'Anti-Mage',\n",
       " 'Clinkz',\n",
       " 'Ember Spirit',\n",
       " 'Medusa',\n",
       " 'Pugna',\n",
       " 'Monkey King',\n",
       " 'Morphling',\n",
       " 'Razor',\n",
       " 'Riki',\n",
       " 'Shadow Fiend',\n",
       " 'Sniper',\n",
       " 'Templar Assassin',\n",
       " 'Viper',\n",
       " 'Death Prophet',\n",
       " 'Leshrac',\n",
       " 'Lina',\n",
       " 'Necrophos',\n",
       " 'Outworld Destroyer',\n",
       " 'Puck',\n",
       " 'Queen of Pain',\n",
       " 'Storm Spirit',\n",
       " 'Tinker',\n",
       " 'Zeus',\n",
       " 'Invoker',\n",
       " 'Lone Druid',\n",
       " 'Pangolier',\n",
       " 'Void Spirit',\n",
       " 'Windranger']"
      ]
     },
     "execution_count": 46,
     "metadata": {},
     "output_type": "execute_result"
    }
   ],
   "source": [
    "Pos_2_list"
   ]
  },
  {
   "cell_type": "code",
   "execution_count": 40,
   "id": "d7b44363-f3b5-46df-af8f-912080641948",
   "metadata": {},
   "outputs": [],
   "source": [
    "Unwanted_Pos_2_list = ['Legion Commander', 'Mars', 'Night Stalker','Slardar','Arc Warden', 'Bloodseeker', 'Drow Ranger', \n",
    "                       'Luna', 'Meepo', 'Phantom Assassin', 'Slark', 'Weaver', 'Muerta', 'Batrider', 'Brewmaster', 'Broodmother',\n",
    "                       'Lycan', 'Timbersaw', 'Visage'\n",
    "                      ]\n",
    "for unwanted_hero in Unwanted_Pos_2_list:\n",
    "    Pos_2_list.remove(unwanted_hero)"
   ]
  },
  {
   "cell_type": "code",
   "execution_count": 45,
   "id": "33c52711-3569-4237-bc57-55baa073461e",
   "metadata": {},
   "outputs": [],
   "source": [
    "Pos_2_list.insert(10, 'Pugna')"
   ]
  },
  {
   "cell_type": "code",
   "execution_count": 42,
   "id": "d4ab8c87-40eb-41ea-922d-8ceb38f1eb5c",
   "metadata": {
    "scrolled": true
   },
   "outputs": [
    {
     "data": {
      "text/plain": [
       "['Axe',\n",
       " 'Bristleback',\n",
       " 'Centaur Warrunner',\n",
       " 'Chaos Knight',\n",
       " 'Dawnbreaker',\n",
       " 'Doom',\n",
       " 'Dragon Knight',\n",
       " 'Earthshaker',\n",
       " 'Elder Titan',\n",
       " 'Huskar',\n",
       " 'Kunkka',\n",
       " 'Legion Commander',\n",
       " 'Lifestealer',\n",
       " 'Mars',\n",
       " 'Night Stalker',\n",
       " 'Omniknight',\n",
       " 'Primal Beast',\n",
       " 'Slardar',\n",
       " 'Spirit Breaker',\n",
       " 'Sven',\n",
       " 'Tidehunter',\n",
       " 'Tiny',\n",
       " 'Tusk',\n",
       " 'Underlord',\n",
       " 'Wraith King',\n",
       " 'Faceless Void',\n",
       " 'Juggernaut',\n",
       " 'Naga Siren',\n",
       " 'Phantom Lancer',\n",
       " 'Razor',\n",
       " 'Spectre',\n",
       " 'Terrorblade',\n",
       " 'Troll Warlord',\n",
       " 'Ursa',\n",
       " 'Viper',\n",
       " 'Death Prophet',\n",
       " 'Necrophos',\n",
       " 'Outworld Destroyer',\n",
       " 'Abaddon',\n",
       " 'Beastmaster',\n",
       " 'Brewmaster',\n",
       " 'Broodmother',\n",
       " 'Dark Seer',\n",
       " 'Lone Druid',\n",
       " 'Lycan',\n",
       " 'Magnus',\n",
       " 'Pangolier',\n",
       " 'Sand King',\n",
       " 'Timbersaw',\n",
       " 'Visage',\n",
       " 'Void Spirit']"
      ]
     },
     "execution_count": 42,
     "metadata": {},
     "output_type": "execute_result"
    }
   ],
   "source": [
    "Pos_3_list"
   ]
  },
  {
   "cell_type": "code",
   "execution_count": 43,
   "id": "1247ebf3-fa19-4169-8f4a-92ee913097a7",
   "metadata": {},
   "outputs": [],
   "source": [
    "Unwanted_Pos_3_list = ['Elder Titan', 'Lifestealer', 'Sven', 'Tiny', 'Wraith King', 'Faceless Void', 'Juggernaut', 'Naga Siren', 'Phantom Lancer', 'Spectre',\n",
    "                       'Terrorblade','Troll Warlord','Ursa','Broodmother','Lone Druid','Visage','Void Spirit'\n",
    "                      ]\n",
    "for unwanted_hero in Unwanted_Pos_3_list:\n",
    "    Pos_3_list.remove(unwanted_hero)"
   ]
  },
  {
   "cell_type": "code",
   "execution_count": 44,
   "id": "cb6f08d5-19b8-4a63-b222-a23d375c8398",
   "metadata": {
    "scrolled": true
   },
   "outputs": [
    {
     "data": {
      "text/plain": [
       "['Axe',\n",
       " 'Centaur Warrunner',\n",
       " 'Dawnbreaker',\n",
       " 'Doom',\n",
       " 'Earth Spirit',\n",
       " 'Earthshaker',\n",
       " 'Elder Titan',\n",
       " 'Ogre Magi',\n",
       " 'Omniknight',\n",
       " 'Pudge',\n",
       " 'Spirit Breaker',\n",
       " 'Tidehunter',\n",
       " 'Tiny',\n",
       " 'Treant Protector',\n",
       " 'Tusk',\n",
       " 'Underlord',\n",
       " 'Undying',\n",
       " 'Bounty Hunter',\n",
       " 'Clinkz',\n",
       " 'Gyrocopter',\n",
       " 'Hoodwink',\n",
       " 'Ancient Apparition',\n",
       " 'Crystal Maiden',\n",
       " 'Disruptor',\n",
       " 'Enchantress',\n",
       " 'Grimstroke',\n",
       " 'Jakiro',\n",
       " 'Keeper of the Light',\n",
       " 'Leshrac',\n",
       " 'Lich',\n",
       " 'Lina',\n",
       " 'Lion',\n",
       " \"Nature's Prophet\",\n",
       " 'Oracle',\n",
       " 'Puck',\n",
       " 'Pugna',\n",
       " 'Queen of Pain',\n",
       " 'Rubick',\n",
       " 'Shadow Demon',\n",
       " 'Shadow Shaman',\n",
       " 'Silencer',\n",
       " 'Skywrath Mage',\n",
       " 'Storm Spirit',\n",
       " 'Tinker',\n",
       " 'Warlock',\n",
       " 'Witch Doctor',\n",
       " 'Zeus',\n",
       " 'Bane',\n",
       " 'Batrider',\n",
       " 'Beastmaster',\n",
       " 'Chen',\n",
       " 'Clockwerk',\n",
       " 'Dark Seer',\n",
       " 'Dark Willow',\n",
       " 'Dazzle',\n",
       " 'Enigma',\n",
       " 'Invoker',\n",
       " 'Io',\n",
       " 'Magnus',\n",
       " 'Marci',\n",
       " 'Mirana',\n",
       " 'Nyx Assassin',\n",
       " 'Phoenix',\n",
       " 'Sand King',\n",
       " 'Snapfire',\n",
       " 'Techies',\n",
       " 'Vengeful Spirit',\n",
       " 'Venomancer',\n",
       " 'Windranger',\n",
       " 'Winter Wyvern']"
      ]
     },
     "execution_count": 44,
     "metadata": {},
     "output_type": "execute_result"
    }
   ],
   "source": [
    "Pos_4_list"
   ]
  },
  {
   "cell_type": "code",
   "execution_count": 47,
   "id": "a4bef75f-056e-4b3c-b883-060b837df8fc",
   "metadata": {},
   "outputs": [],
   "source": [
    "Unwanted_Pos_4_list = ['Axe','Centaur Warrunner','Dawnbreaker','Earthshaker','Tidehunter','Underlord','Clinkz','Gyrocopter','Leshrac','Lina','Puck',\n",
    "                       'Queen of Pain','Storm Spirit','Tinker','Zeus','Beastmaster','Chen','Dark Seer', 'Enigma', 'Invoker', 'Magnus',\n",
    "                       'Sand King','Windranger'\n",
    "                      ]\n",
    "for unwanted_hero in Unwanted_Pos_4_list:\n",
    "    Pos_4_list.remove(unwanted_hero)"
   ]
  },
  {
   "cell_type": "code",
   "execution_count": 48,
   "id": "01cf0f10-9ad9-407a-b6f5-0490cc56b862",
   "metadata": {},
   "outputs": [
    {
     "data": {
      "text/plain": [
       "['Ogre Magi',\n",
       " 'Pudge',\n",
       " 'Treant Protector',\n",
       " 'Undying',\n",
       " 'Bounty Hunter',\n",
       " 'Hoodwink',\n",
       " 'Ancient Apparition',\n",
       " 'Crystal Maiden',\n",
       " 'Disruptor',\n",
       " 'Enchantress',\n",
       " 'Grimstroke',\n",
       " 'Jakiro',\n",
       " 'Keeper of the Light',\n",
       " 'Lich',\n",
       " 'Lion',\n",
       " \"Nature's Prophet\",\n",
       " 'Oracle',\n",
       " 'Pugna',\n",
       " 'Rubick',\n",
       " 'Shadow Demon',\n",
       " 'Shadow Shaman',\n",
       " 'Silencer',\n",
       " 'Skywrath Mage',\n",
       " 'Warlock',\n",
       " 'Witch Doctor',\n",
       " 'Abaddon',\n",
       " 'Bane',\n",
       " 'Chen',\n",
       " 'Clockwerk',\n",
       " 'Dark Willow',\n",
       " 'Dazzle',\n",
       " 'Enigma',\n",
       " 'Io',\n",
       " 'Marci',\n",
       " 'Mirana',\n",
       " 'Nyx Assassin',\n",
       " 'Phoenix',\n",
       " 'Snapfire',\n",
       " 'Techies',\n",
       " 'Vengeful Spirit',\n",
       " 'Venomancer',\n",
       " 'Winter Wyvern']"
      ]
     },
     "execution_count": 48,
     "metadata": {},
     "output_type": "execute_result"
    }
   ],
   "source": [
    "Pos_5_list"
   ]
  },
  {
   "cell_type": "code",
   "execution_count": 49,
   "id": "8124cce0-e16c-45ec-8289-151bf5967ad5",
   "metadata": {},
   "outputs": [],
   "source": [
    "Unwanted_Pos_5_list = ['Pudge',\"Nature's Prophet\",'Chen','Enigma','Marci','Mirana','Nyx Assassin','Snapfire','Venomancer'\n",
    "                      ]\n",
    "for unwanted_hero in Unwanted_Pos_5_list:\n",
    "    Pos_5_list.remove(unwanted_hero)"
   ]
  },
  {
   "cell_type": "markdown",
   "id": "eb40cda8-a2bf-479a-81db-5722d5788561",
   "metadata": {},
   "source": [
    "## Save"
   ]
  },
  {
   "cell_type": "code",
   "execution_count": 71,
   "id": "9f1f01e1-73f5-4c6c-bed6-5106962cc4b0",
   "metadata": {},
   "outputs": [],
   "source": [
    "# save these default position hero pools \n",
    "with open(\"../records/default_pos_1_hero_pool.txt\", 'w') as f:\n",
    "    f.write(str(Pos_1_list))\n",
    "\n",
    "with open(\"../records/default_pos_2_hero_pool.txt\", 'w') as f:\n",
    "    f.write(str(Pos_2_list))\n",
    "\n",
    "with open(\"../records/default_pos_3_hero_pool.txt\", 'w') as f:\n",
    "    f.write(str(Pos_3_list))\n",
    "\n",
    "with open(\"../records/default_pos_4_hero_pool.txt\", 'w') as f:\n",
    "    f.write(str(Pos_4_list))\n",
    "\n",
    "with open(\"../records/default_pos_5_hero_pool.txt\", 'w') as f:\n",
    "    f.write(str(Pos_5_list))"
   ]
  }
 ],
 "metadata": {
  "kernelspec": {
   "display_name": "Python 3 (ipykernel)",
   "language": "python",
   "name": "python3"
  },
  "language_info": {
   "codemirror_mode": {
    "name": "ipython",
    "version": 3
   },
   "file_extension": ".py",
   "mimetype": "text/x-python",
   "name": "python",
   "nbconvert_exporter": "python",
   "pygments_lexer": "ipython3",
   "version": "3.10.13"
  }
 },
 "nbformat": 4,
 "nbformat_minor": 5
}
